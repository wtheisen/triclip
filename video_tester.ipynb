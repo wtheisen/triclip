{
 "cells": [
  {
   "cell_type": "code",
   "execution_count": 1,
   "metadata": {},
   "outputs": [
    {
     "name": "stderr",
     "output_type": "stream",
     "text": [
      "/media/wtheisen/scratch3/triclip/triple_clip_env/lib/python3.8/site-packages/tqdm/auto.py:21: TqdmWarning: IProgress not found. Please update jupyter and ipywidgets. See https://ipywidgets.readthedocs.io/en/stable/user_install.html\n",
      "  from .autonotebook import tqdm as notebook_tqdm\n"
     ]
    }
   ],
   "source": [
    "from decord import VideoReader, cpu\n",
    "import numpy as np\n",
    "\n",
    "from transformers import VideoMAEFeatureExtractor, VideoMAEModel\n",
    "from huggingface_hub import hf_hub_download"
   ]
  },
  {
   "cell_type": "code",
   "execution_count": 19,
   "metadata": {},
   "outputs": [],
   "source": [
    "def sample_frame_indices(clip_len, frame_sample_rate, seg_len):\n",
    "    converted_len = int(clip_len * frame_sample_rate)\n",
    "    end_idx = np.random.randint(converted_len, seg_len)\n",
    "    start_idx = end_idx - converted_len\n",
    "\n",
    "    selected_image_frame = start_idx\n",
    "    while selected_image_frame >= start_idx and selected_image_frame <= end_idx:\n",
    "        selected_image_frame = np.random.randint(0, seg_len)\n",
    "\n",
    "    indices = np.linspace(start_idx, end_idx, num=clip_len)\n",
    "    indices = np.clip(indices, start_idx, end_idx - 1).astype(np.int64)\n",
    "    return indices, selected_image_frame"
   ]
  },
  {
   "cell_type": "code",
   "execution_count": 20,
   "metadata": {},
   "outputs": [],
   "source": [
    "video_path = \"/media/wtheisen/scratch3/social-data/./media_2oct/es/1444262872394182657/videos/link/1444262872394182657.mp4\"\n",
    "videoreader = VideoReader(video_path, num_threads=1, ctx=cpu(0))\n"
   ]
  },
  {
   "cell_type": "code",
   "execution_count": 23,
   "metadata": {},
   "outputs": [
    {
     "name": "stdout",
     "output_type": "stream",
     "text": [
      "64\n",
      "[ 76  80  84  88  93  97 101 105 110 114 118 122 127 131 135 139]\n",
      "[[[ 18  17  22]\n",
      "  [ 18  17  22]\n",
      "  [ 18  17  22]\n",
      "  ...\n",
      "  [ 26  19  17]\n",
      "  [ 26  19  17]\n",
      "  [ 26  19  17]]\n",
      "\n",
      " [[ 18  17  22]\n",
      "  [ 18  17  22]\n",
      "  [ 18  17  22]\n",
      "  ...\n",
      "  [ 26  19  17]\n",
      "  [ 26  19  17]\n",
      "  [ 24  17  15]]\n",
      "\n",
      " [[ 18  17  22]\n",
      "  [ 18  17  22]\n",
      "  [ 18  17  22]\n",
      "  ...\n",
      "  [ 26  19  17]\n",
      "  [ 24  17  15]\n",
      "  [ 24  17  15]]\n",
      "\n",
      " ...\n",
      "\n",
      " [[133 102  83]\n",
      "  [133 102  83]\n",
      "  [133 102  83]\n",
      "  ...\n",
      "  [ 62  49  42]\n",
      "  [ 61  48  43]\n",
      "  [ 61  48  43]]\n",
      "\n",
      " [[133 102  83]\n",
      "  [133 102  83]\n",
      "  [133 102  83]\n",
      "  ...\n",
      "  [ 61  48  41]\n",
      "  [ 61  48  43]\n",
      "  [ 61  48  43]]\n",
      "\n",
      " [[133 102  83]\n",
      "  [133 102  83]\n",
      "  [133 102  83]\n",
      "  ...\n",
      "  [ 61  48  41]\n",
      "  [ 61  48  43]\n",
      "  [ 61  48  43]]]\n"
     ]
    },
    {
     "ename": "AttributeError",
     "evalue": "'NoneType' object has no attribute 'asnumpy'",
     "output_type": "error",
     "traceback": [
      "\u001b[0;31m---------------------------------------------------------------------------\u001b[0m",
      "\u001b[0;31mAttributeError\u001b[0m                            Traceback (most recent call last)",
      "Cell \u001b[0;32mIn[23], line 5\u001b[0m\n\u001b[1;32m      3\u001b[0m indices, image_frame \u001b[39m=\u001b[39m sample_frame_indices(clip_len\u001b[39m=\u001b[39m\u001b[39m16\u001b[39m, frame_sample_rate\u001b[39m=\u001b[39m\u001b[39m4\u001b[39m, seg_len\u001b[39m=\u001b[39m\u001b[39mlen\u001b[39m(videoreader))\n\u001b[1;32m      4\u001b[0m video \u001b[39m=\u001b[39m videoreader\u001b[39m.\u001b[39mget_batch(indices)\u001b[39m.\u001b[39masnumpy()\n\u001b[0;32m----> 5\u001b[0m \u001b[39mprint\u001b[39;49m(videoreader[image_frame])\u001b[39m.\u001b[39;49masnumpy()\n",
      "\u001b[0;31mAttributeError\u001b[0m: 'NoneType' object has no attribute 'asnumpy'"
     ]
    }
   ],
   "source": [
    "# sample 16 frames\n",
    "videoreader.seek(0)\n",
    "indices, image_frame = sample_frame_indices(clip_len=16, frame_sample_rate=4, seg_len=len(videoreader))\n",
    "video = videoreader.get_batch(indices).asnumpy()\n",
    "print(videoreader[image_frame].asnumpy())"
   ]
  },
  {
   "cell_type": "code",
   "execution_count": 13,
   "metadata": {},
   "outputs": [],
   "source": [
    "feature_extractor = VideoMAEFeatureExtractor.from_pretrained(\"MCG-NJU/videomae-base\")\n",
    "model = VideoMAEModel.from_pretrained(\"MCG-NJU/videomae-base\")"
   ]
  },
  {
   "cell_type": "code",
   "execution_count": 14,
   "metadata": {},
   "outputs": [],
   "source": [
    "# prepare video for the model\n",
    "inputs = feature_extractor(list(video), return_tensors=\"pt\")"
   ]
  },
  {
   "cell_type": "code",
   "execution_count": 15,
   "metadata": {},
   "outputs": [
    {
     "data": {
      "text/plain": [
       "[1, 1568, 768]"
      ]
     },
     "execution_count": 15,
     "metadata": {},
     "output_type": "execute_result"
    }
   ],
   "source": [
    "# forward pass\n",
    "outputs = model(**inputs)\n",
    "last_hidden_states = outputs.last_hidden_state\n",
    "list(last_hidden_states.shape)"
   ]
  },
  {
   "cell_type": "code",
   "execution_count": null,
   "metadata": {},
   "outputs": [],
   "source": []
  }
 ],
 "metadata": {
  "kernelspec": {
   "display_name": "triple_clip_env",
   "language": "python",
   "name": "python3"
  },
  "language_info": {
   "codemirror_mode": {
    "name": "ipython",
    "version": 3
   },
   "file_extension": ".py",
   "mimetype": "text/x-python",
   "name": "python",
   "nbconvert_exporter": "python",
   "pygments_lexer": "ipython3",
   "version": "3.8.0"
  },
  "orig_nbformat": 4,
  "vscode": {
   "interpreter": {
    "hash": "aa83108d76caf56501568684719d5af63ced92d1834cb9233f5a5a27a516f076"
   }
  }
 },
 "nbformat": 4,
 "nbformat_minor": 2
}
